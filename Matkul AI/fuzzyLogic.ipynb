{
  "nbformat": 4,
  "nbformat_minor": 0,
  "metadata": {
    "colab": {
      "provenance": [],
      "authorship_tag": "ABX9TyNKbl7ymBRfGAobW4B0mYwy"
    },
    "kernelspec": {
      "name": "python3",
      "display_name": "Python 3"
    },
    "language_info": {
      "name": "python"
    }
  },
  "cells": [
    {
      "cell_type": "code",
      "execution_count": null,
      "metadata": {
        "colab": {
          "base_uri": "https://localhost:8080/"
        },
        "id": "DWcEWPyawnDL",
        "outputId": "c07c90b2-14b8-45a2-adae-982b04250cb1"
      },
      "outputs": [
        {
          "output_type": "stream",
          "name": "stdout",
          "text": [
            "Collecting fuzzywuzzy\n",
            "  Downloading fuzzywuzzy-0.18.0-py2.py3-none-any.whl.metadata (4.9 kB)\n",
            "Downloading fuzzywuzzy-0.18.0-py2.py3-none-any.whl (18 kB)\n",
            "Installing collected packages: fuzzywuzzy\n",
            "Successfully installed fuzzywuzzy-0.18.0\n"
          ]
        }
      ],
      "source": [
        "pip install fuzzywuzzy"
      ]
    },
    {
      "cell_type": "markdown",
      "source": [],
      "metadata": {
        "id": "gW7ugat_xWNI"
      }
    },
    {
      "cell_type": "code",
      "source": [
        "!pip install Levenshtein"
      ],
      "metadata": {
        "colab": {
          "base_uri": "https://localhost:8080/"
        },
        "id": "V97CybCfxWtA",
        "outputId": "939b9eb9-1a55-4bb2-878f-63242e8ba214"
      },
      "execution_count": null,
      "outputs": [
        {
          "output_type": "stream",
          "name": "stdout",
          "text": [
            "Collecting Levenshtein\n",
            "  Downloading levenshtein-0.26.0-cp310-cp310-manylinux_2_17_x86_64.manylinux2014_x86_64.whl.metadata (3.2 kB)\n",
            "Collecting rapidfuzz<4.0.0,>=3.9.0 (from Levenshtein)\n",
            "  Downloading rapidfuzz-3.10.0-cp310-cp310-manylinux_2_17_x86_64.manylinux2014_x86_64.whl.metadata (11 kB)\n",
            "Downloading levenshtein-0.26.0-cp310-cp310-manylinux_2_17_x86_64.manylinux2014_x86_64.whl (162 kB)\n",
            "\u001b[2K   \u001b[90m━━━━━━━━━━━━━━━━━━━━━━━━━━━━━━━━━━━━━━━━\u001b[0m \u001b[32m162.6/162.6 kB\u001b[0m \u001b[31m3.2 MB/s\u001b[0m eta \u001b[36m0:00:00\u001b[0m\n",
            "\u001b[?25hDownloading rapidfuzz-3.10.0-cp310-cp310-manylinux_2_17_x86_64.manylinux2014_x86_64.whl (3.1 MB)\n",
            "\u001b[2K   \u001b[90m━━━━━━━━━━━━━━━━━━━━━━━━━━━━━━━━━━━━━━━━\u001b[0m \u001b[32m3.1/3.1 MB\u001b[0m \u001b[31m31.5 MB/s\u001b[0m eta \u001b[36m0:00:00\u001b[0m\n",
            "\u001b[?25hInstalling collected packages: rapidfuzz, Levenshtein\n",
            "Successfully installed Levenshtein-0.26.0 rapidfuzz-3.10.0\n"
          ]
        }
      ]
    },
    {
      "cell_type": "code",
      "source": [
        "import Levenshtein as lev\n",
        "from fuzzywuzzy import fuzz"
      ],
      "metadata": {
        "id": "D84SOAuqxsr_"
      },
      "execution_count": null,
      "outputs": []
    },
    {
      "cell_type": "markdown",
      "source": [
        "Levenshtein Distance"
      ],
      "metadata": {
        "id": "f3iO0TnZySYT"
      }
    },
    {
      "cell_type": "code",
      "source": [
        "#Mencari Perbedaan\n",
        "Str1 = \"Kucing\"\n",
        "Str2 = \"Kocak\"\n",
        "lev.distance(Str1.lower(),Str2.lower())"
      ],
      "metadata": {
        "colab": {
          "base_uri": "https://localhost:8080/"
        },
        "id": "oSPhgHnHybsM",
        "outputId": "1f5659f6-f2fe-4ad9-9470-53350415648f"
      },
      "execution_count": null,
      "outputs": [
        {
          "output_type": "execute_result",
          "data": {
            "text/plain": [
              "4"
            ]
          },
          "metadata": {},
          "execution_count": 11
        }
      ]
    },
    {
      "cell_type": "markdown",
      "source": [
        "Ratio"
      ],
      "metadata": {
        "id": "c5QrRcNlzFr_"
      }
    },
    {
      "cell_type": "code",
      "source": [
        "#Ratio (CASE SENSITIVE)\n",
        "ratio = fuzz.ratio(Str1,Str2) #beda\n",
        "print('ratio = ',ratio,'%')"
      ],
      "metadata": {
        "colab": {
          "base_uri": "https://localhost:8080/"
        },
        "id": "J1HQu7ZhzIpT",
        "outputId": "39df62d4-80d1-43b4-c19c-b397b92dc0b0"
      },
      "execution_count": null,
      "outputs": [
        {
          "output_type": "stream",
          "name": "stdout",
          "text": [
            "ratio =  36 %\n"
          ]
        }
      ]
    },
    {
      "cell_type": "code",
      "source": [
        "#Partial Ratio (case sensitive)\n",
        "ratio_partial = fuzz.partial_ratio(Str1,Str2) #beda\n",
        "print('ratio_partial = ',ratio_partial,'%')"
      ],
      "metadata": {
        "colab": {
          "base_uri": "https://localhost:8080/"
        },
        "id": "ZQqQPDkuz_aW",
        "outputId": "12433cca-7d89-4be5-c511-9b757025190d"
      },
      "execution_count": null,
      "outputs": [
        {
          "output_type": "stream",
          "name": "stdout",
          "text": [
            "ratio_partial =  40 %\n"
          ]
        }
      ]
    },
    {
      "cell_type": "code",
      "source": [
        "string1 = \"UKSW\"\n",
        "string2 = \"Uksw Satu Hati\"\n",
        "ratio_partial = fuzz.partial_ratio(string1,string2)\n",
        "print('ratio_partial = ',ratio_partial,'%')"
      ],
      "metadata": {
        "colab": {
          "base_uri": "https://localhost:8080/"
        },
        "id": "8npoRKgd0033",
        "outputId": "4a6d2733-d206-4c66-d0ce-634416f95b0b"
      },
      "execution_count": null,
      "outputs": [
        {
          "output_type": "stream",
          "name": "stdout",
          "text": [
            "ratio_partial =  22 %\n"
          ]
        }
      ]
    },
    {
      "cell_type": "markdown",
      "source": [
        "Token Sort Ratio dan Token Set Ratio"
      ],
      "metadata": {
        "id": "LGp1MUpj3bvS"
      }
    },
    {
      "cell_type": "code",
      "source": [
        "#TOken SOrt Ratio(Insensitive Case) #SORT Untuk keseluruhan Kalimat\n",
        "Sort_ratio = fuzz.token_sort_ratio('Salatiga','SALatiga Tercinta')\n",
        "print('Sort_ratio = ',Sort_ratio,'%')\n",
        "#TOken Set RATIO(Insensitive Case) #SORT Untuk Kata\n",
        "Set_ratio = fuzz.token_set_ratio('Salatiga','SALatiga Tercinta')\n",
        "print('Set_ratio = ',Set_ratio,'%')"
      ],
      "metadata": {
        "colab": {
          "base_uri": "https://localhost:8080/"
        },
        "id": "kg0ZZ_m63kVG",
        "outputId": "a4a03b36-d75e-4c31-9710-4f6ddcabdda3"
      },
      "execution_count": null,
      "outputs": [
        {
          "output_type": "stream",
          "name": "stdout",
          "text": [
            "Sort_ratio =  64 %\n",
            "Set_ratio =  100 %\n"
          ]
        }
      ]
    }
  ]
}