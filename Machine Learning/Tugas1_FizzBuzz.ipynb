{
  "nbformat": 4,
  "nbformat_minor": 0,
  "metadata": {
    "colab": {
      "provenance": [],
      "authorship_tag": "ABX9TyOD+Sa9/5HyEE+801d13gtK"
    },
    "kernelspec": {
      "name": "python3",
      "display_name": "Python 3"
    },
    "language_info": {
      "name": "python"
    }
  },
  "cells": [
    {
      "cell_type": "code",
      "execution_count": null,
      "metadata": {
        "id": "8QJfoc-FRDWj",
        "colab": {
          "base_uri": "https://localhost:8080/"
        },
        "outputId": "091c15b5-4c4e-4128-d187-699981cfe613"
      },
      "outputs": [
        {
          "output_type": "stream",
          "name": "stdout",
          "text": [
            "Collecting emoji\n",
            "  Downloading emoji-2.13.2-py3-none-any.whl.metadata (5.8 kB)\n",
            "Downloading emoji-2.13.2-py3-none-any.whl (553 kB)\n",
            "\u001b[2K   \u001b[90m━━━━━━━━━━━━━━━━━━━━━━━━━━━━━━━━━━━━━━━━\u001b[0m \u001b[32m553.2/553.2 kB\u001b[0m \u001b[31m9.1 MB/s\u001b[0m eta \u001b[36m0:00:00\u001b[0m\n",
            "\u001b[?25hInstalling collected packages: emoji\n",
            "Successfully installed emoji-2.13.2\n"
          ]
        }
      ],
      "source": [
        "!pip install emoji"
      ]
    },
    {
      "cell_type": "code",
      "source": [
        "import emoji\n",
        "def display_menu(): #menampilkan Daftar menu nich\n",
        "    print(\"=======================================\")\n",
        "    print(\"| Selamat Datang Di Program Python !! |\")\n",
        "    print(\"| 1. Membuat piramida dengan emote    |\")\n",
        "    print(\"| 2. Program FizzBuzz                 |\")\n",
        "    print(\"| 3. Ganjil dan Genap                 |\")\n",
        "    print(\"| 4. Keluar                           |\")\n",
        "    print(\"=======================================\")\n",
        "\n",
        "def get_user_choice(): #ini buat neriman input user buat pemilihan menunya\n",
        "    return input(\"Pilihan Menu: \") # yah print biasa buat tempat tampung pemilihan menunya dan menerimanya(input) ke program\n",
        "\n",
        "def main(): # fungsi utama main course program yang menyalurkan inputan user ke program yang di pilih\n",
        "    while True: #looping yang dipakai agar bisa looping sampai user memilih untuk keluar dari program\n",
        "        display_menu()\n",
        "        choice = get_user_choice()\n",
        "\n",
        "        if choice == '1': # kondisi pertama dimana user pilih 1 akan masuk ke program atau fungsi emoji_piramit():\n",
        "            emoji_piramit()\n",
        "        elif choice == '2': # kondisi kedua dimana user pilih 2 akan masuk ke program atau fungsi FizzBuzz():\n",
        "            FizzBuzz()\n",
        "        elif choice == '3': # kondisi ketiga dimana user pilih 3 akan masuk ke program atau fungsi GanjilGenap():\n",
        "            GanjilGenap()\n",
        "        elif choice == '4': # kondisi ke-empat dimana user pilih 4 akan memprint sayonara dan menghentikan program ataupun loopnya dengan menggunakan break\n",
        "            print(\"Terima kasih telah menggunakan program ini. Sampai jumpa lagi!!\")\n",
        "            break\n",
        "        else:\n",
        "            print(\"Pilihan tidak valid. Silakan coba lagi.\") #kondisi dimana kalau user salah pilih option/pilihan bakalan di omelin/caution/peringatan\n",
        "\n",
        "\n",
        "def emoji_piramit(): # fungsi dan isi dari program emoji piramit\n",
        "    while True: # sama aja looping yang dipakai agar bisa looping sampai user memilih untuk keluar dari program\n",
        "        rows = int(input(\"Masukkan Angka: \")) # tempat tampung dan meneriman inputan user\n",
        "        #segitiga atas\n",
        "        for i in range(rows): #looping sebanyak \"rows\"nya berdasarkan input user\n",
        "            for j in range(i+1): # Loop untuk mencetak emoji, jumlah emoji bertambah di tiap baris\n",
        "                print(emoji.emojize(\":rolling_on_the_floor_laughing:\"), end=\"\") #buat cetak emoji tanpa pindah baris\n",
        "            print() #nah ini buat pindah ke baris berikutnya setelah mencetak emoji untuk baris ini\n",
        "        print(\"\")  #ngeprint baris kosng buat separasi seigitiganya\n",
        "        # segitiga bawah\n",
        "        for i in range(rows, 0, -1): #nah ini bedanya Loopnya iku dimulai dari 'rows'nya bukan sebanyakn kayak tadi menuju 1, berkurang setiap iterasi atau pengulangan\n",
        "            for j in range(0, i):  # Loop untuk mencetak emoji, jumlah emoji berkurang di tiap baris\n",
        "                print(emoji.emojize(\":grinning_face:\"), end=\"\") #buat cetak emoji tanpa pindah baris\n",
        "            print() #nah ini buat pindah ke baris berikutnya setelah mencetak emoji untuk baris ini\n",
        "\n",
        "        # buat looping program bagian ini\n",
        "        mengulang = input(\"Input Lagi? y/n : \").lower() #deklarasi variabel untuk menerimanya kembali ciahhh hahaha\n",
        "        if mengulang != 'y': #jika user pilih y artinya masih tarik ulur belum dighosting alias looping(pdktnya)\n",
        "            break # ci admin cyedih karena user memilih mengakhiri hubungan(perckapan ini) alias break dan keluar dari loopnya\n",
        "\n",
        "\n",
        "def FizzBuzz(): # fungsi dan isi dari program F(R)izzBUzz\n",
        "    while True: # sama aja looping yang dipakai agar bisa looping sampai user memilih untuk keluar dari program\n",
        "        n = int(input(\"Masukkan Angka: \")) # tempat tampung dan menerima inputan user\n",
        "        for i in range(1,n+1): #ini looping buat Program memeriksa angka-angka dari 1 hingga n; jadi untuk setiap angka yang ada di dalam daftar angka dari 1 hingga n.\n",
        "            if i%3==0 and i%5 == 0: #Jika angka habis dibagi 3 dan 5, program mencetak \"FizzBuzz\"\n",
        "                print(\"FizzBuzz\")\n",
        "            elif i%5 == 0: #Jika angka hanya habis dibagi 5, program mencetak \"Buzz\"\n",
        "                print(\"Buzz\")\n",
        "            elif i%3 == 0: #Jika angka hanya habis dibagi 3, program mencetak \"Fizz\"\n",
        "                print(\"Fizz\")\n",
        "            else: #Jika angka tidak memenuhi kondisi-kondisi tersebut(else)alias selain itu, program akan mencetak angkanya ajehh\n",
        "                print(i)\n",
        "\n",
        "        #yah masih sama looping program bagian ini\n",
        "        mengulang = input(\"Input Lagi? y/n : \").lower() #deklarasi variabel untuk menerima kembali inputan user\n",
        "        if mengulang != 'y': #jika user pilih y program akan menerimanya sebagai perintah looping yang diberi nama variabelnya mengulang\n",
        "            break #break ini untuk menginisiasi akhir kisah cinta admin(keluar loop)\n",
        "\n",
        "def GanjilGenap(): # fungsi dan isi dari program GanjilGenap jyakarta\n",
        "    while True: #looping yang dipakai agar bisa loop sampai user sendiri yang memilih untuk keluar dari program\n",
        "        angka = int(input(\"Masukkan Angka: \")) # deklarasi untukk tempat tampung dan menerima inputan user\n",
        "        if angka % 2 == 0: #Jika angka habis dibagi 2\n",
        "            print(f'{angka} merupakan bilangan Genap') #maka terjadilah pencetakan angkat tsb adalah genap\n",
        "        else: #selain dari kondisi itu(seblumnya) atau tidak terpenuhi\n",
        "            print(f'{angka} merupakan bilangan Ganjil') #maka bakalan mencetak ganjil\n",
        "\n",
        "        #loop yang sama \"if it ain't broke, don't fix it\" -Pepatah coder india\n",
        "        mengulang = input(\"Input Lagi? y/n : \").lower() #deklarasi variabel untuk menerima kembali inputan user\n",
        "        if mengulang != 'y': #jika user pilih y program akan menerimanya sebagai perintah looping yang diberi nama variabelnya mengulang\n",
        "            break #break ini untuk menginisiasi akhir dari program (keluar loop)\n",
        "\n",
        "# ini buat memnggil fungsi-fungsi yang tadi kita definisikan tuhh agar bisa dieksekusi jadi gak hanya di definisikan saja fungsi fungsi tadi banyak\n",
        "#tetapi juga bakalan dieksekusi alias di jalankan fungsi-fungsi pada program yang sudah di rancang, saya tidak tau apakah ada cara lain yang lebih baik untuk sekarang\n",
        "if __name__ == \"__main__\": # Mengecek apakah file ini dijalankan langsung oleh pengguna\n",
        "    main() # Jika iya, panggil fungsi main() untuk memulai program\n",
        "\n",
        "# Mohon maaf untuk penggunaan bahasanya jika terasa kurang mengenakkan , saya memilih pembawaan santai\n",
        "# agar saya juga bisa lebih memahami kembali code nya dengan maksimal\n",
        "# dan bisa di pelajari lagi kemudian hari jika diperlukan (alias sekalian buat pembalajaran) :)"
      ],
      "metadata": {
        "id": "iV1Tlo5gbaP4"
      },
      "execution_count": null,
      "outputs": []
    }
  ]
}
